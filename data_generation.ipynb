{
 "cells": [
  {
   "cell_type": "code",
   "execution_count": 2,
   "id": "bd6a144a",
   "metadata": {},
   "outputs": [
    {
     "name": "stdout",
     "output_type": "stream",
     "text": [
      "Collecting faker\n",
      "  Downloading Faker-35.2.2-py3-none-any.whl (1.9 MB)\n",
      "Requirement already satisfied: typing-extensions in c:\\users\\asus\\anaconda3\\envs\\pcwindows\\lib\\site-packages (from faker) (4.12.2)\n",
      "Requirement already satisfied: python-dateutil>=2.4 in c:\\users\\asus\\anaconda3\\envs\\pcwindows\\lib\\site-packages (from faker) (2.8.2)\n",
      "Requirement already satisfied: six>=1.5 in c:\\users\\asus\\anaconda3\\envs\\pcwindows\\lib\\site-packages (from python-dateutil>=2.4->faker) (1.16.0)\n",
      "Installing collected packages: faker\n",
      "Successfully installed faker-35.2.2\n"
     ]
    }
   ],
   "source": [
    "!pip install faker"
   ]
  },
  {
   "cell_type": "code",
   "execution_count": 3,
   "id": "1213d99d",
   "metadata": {},
   "outputs": [],
   "source": [
    "import pandas as pd\n",
    "import numpy as np\n",
    "from faker import Faker\n",
    "import random\n",
    "fake = Faker()\n",
    "\n",
    "departments = ['Retail Banking', 'Corporate Banking', 'IT', 'HR', 'Compliance', 'Risk']\n",
    "positions = ['Officer', 'Senior Officer', 'Manager', 'Senior Manager']\n",
    "branches = ['Hanoi', 'HCM', 'Da Nang', 'Hai Phong']\n",
    "\n",
    "data = []\n",
    "for i in range(300):\n",
    "    data.append({\n",
    "        \"employee_id\": f\"E{i:04}\",\n",
    "        \"name\": fake.name(),\n",
    "        \"birth_year\": random.randint(1980, 2000),\n",
    "        \"gender\": random.choice(['Male', 'Female']),\n",
    "        \"position\": random.choice(positions),\n",
    "        \"department\": random.choice(departments),\n",
    "        \"branch_location\": random.choice(branches),\n",
    "        \"join_date\": fake.date_between(start_date='-10y', end_date='-1y'),\n",
    "        \"employment_status\": random.choices(['Active', 'Quit'], weights=[0.85, 0.15])[0]\n",
    "    })\n",
    "\n",
    "employees_df = pd.DataFrame(data)\n",
    "employees_df.to_csv(\"employees.csv\", index=False)\n"
   ]
  }
 ],
 "metadata": {
  "kernelspec": {
   "display_name": "PCWindows",
   "language": "python",
   "name": "python3"
  },
  "language_info": {
   "codemirror_mode": {
    "name": "ipython",
    "version": 3
   },
   "file_extension": ".py",
   "mimetype": "text/x-python",
   "name": "python",
   "nbconvert_exporter": "python",
   "pygments_lexer": "ipython3",
   "version": "3.8.12"
  }
 },
 "nbformat": 4,
 "nbformat_minor": 5
}
